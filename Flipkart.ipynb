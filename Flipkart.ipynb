{
 "cells": [
  {
   "cell_type": "code",
   "execution_count": 1,
   "id": "d182160f",
   "metadata": {},
   "outputs": [
    {
     "name": "stderr",
     "output_type": "stream",
     "text": [
      "[nltk_data] Downloading package vader_lexicon to\n",
      "[nltk_data]     C:\\Users\\User\\AppData\\Roaming\\nltk_data...\n"
     ]
    }
   ],
   "source": [
    "#Importing the required libraries\n",
    "import pandas as pd\n",
    "import matplotlib.pyplot as plt\n",
    "import numpy as np\n",
    "import seaborn as sns\n",
    "from nltk.sentiment.vader import SentimentIntensityAnalyzer\n",
    "import nltk\n",
    "nltk.download('vader_lexicon')\n",
    "sentiments = SentimentIntensityAnalyzer()"
   ]
  },
  {
   "cell_type": "code",
   "execution_count": 3,
   "id": "59b110c4",
   "metadata": {},
   "outputs": [
    {
     "data": {
      "text/html": [
       "<div>\n",
       "<style scoped>\n",
       "    .dataframe tbody tr th:only-of-type {\n",
       "        vertical-align: middle;\n",
       "    }\n",
       "\n",
       "    .dataframe tbody tr th {\n",
       "        vertical-align: top;\n",
       "    }\n",
       "\n",
       "    .dataframe thead th {\n",
       "        text-align: right;\n",
       "    }\n",
       "</style>\n",
       "<table border=\"1\" class=\"dataframe\">\n",
       "  <thead>\n",
       "    <tr style=\"text-align: right;\">\n",
       "      <th></th>\n",
       "      <th>Unnamed: 0</th>\n",
       "      <th>Product_name</th>\n",
       "      <th>Review</th>\n",
       "      <th>Rating</th>\n",
       "    </tr>\n",
       "  </thead>\n",
       "  <tbody>\n",
       "    <tr>\n",
       "      <th>0</th>\n",
       "      <td>0</td>\n",
       "      <td>Lenovo Ideapad Gaming 3 Ryzen 5 Hexa Core 5600...</td>\n",
       "      <td>Best under 60k Great performanceI got it for a...</td>\n",
       "      <td>5</td>\n",
       "    </tr>\n",
       "    <tr>\n",
       "      <th>1</th>\n",
       "      <td>1</td>\n",
       "      <td>Lenovo Ideapad Gaming 3 Ryzen 5 Hexa Core 5600...</td>\n",
       "      <td>Good perfomence...</td>\n",
       "      <td>5</td>\n",
       "    </tr>\n",
       "    <tr>\n",
       "      <th>2</th>\n",
       "      <td>2</td>\n",
       "      <td>Lenovo Ideapad Gaming 3 Ryzen 5 Hexa Core 5600...</td>\n",
       "      <td>Great performance but usually it has also that...</td>\n",
       "      <td>5</td>\n",
       "    </tr>\n",
       "    <tr>\n",
       "      <th>3</th>\n",
       "      <td>3</td>\n",
       "      <td>DELL Inspiron Athlon Dual Core 3050U - (4 GB/2...</td>\n",
       "      <td>My wife is so happy and best product 👌🏻😘</td>\n",
       "      <td>5</td>\n",
       "    </tr>\n",
       "    <tr>\n",
       "      <th>4</th>\n",
       "      <td>4</td>\n",
       "      <td>DELL Inspiron Athlon Dual Core 3050U - (4 GB/2...</td>\n",
       "      <td>Light weight laptop with new amazing features,...</td>\n",
       "      <td>5</td>\n",
       "    </tr>\n",
       "    <tr>\n",
       "      <th>...</th>\n",
       "      <td>...</td>\n",
       "      <td>...</td>\n",
       "      <td>...</td>\n",
       "      <td>...</td>\n",
       "    </tr>\n",
       "    <tr>\n",
       "      <th>2299</th>\n",
       "      <td>2299</td>\n",
       "      <td>MSI 27 inch Full HD IPS Panel Monitor (PRO MP2...</td>\n",
       "      <td>Great display, accurate colours at this price ...</td>\n",
       "      <td>5</td>\n",
       "    </tr>\n",
       "    <tr>\n",
       "      <th>2300</th>\n",
       "      <td>2300</td>\n",
       "      <td>MSI 27 inch Full HD IPS Panel Monitor (PRO MP2...</td>\n",
       "      <td>Superb monitor first brought 1 used for 2 mont...</td>\n",
       "      <td>5</td>\n",
       "    </tr>\n",
       "    <tr>\n",
       "      <th>2301</th>\n",
       "      <td>2301</td>\n",
       "      <td>MSI 27 inch Full HD IPS Panel Monitor (PRO MP2...</td>\n",
       "      <td>Awesome</td>\n",
       "      <td>5</td>\n",
       "    </tr>\n",
       "    <tr>\n",
       "      <th>2302</th>\n",
       "      <td>2302</td>\n",
       "      <td>MSI 27 inch Full HD IPS Panel Monitor (PRO MP2...</td>\n",
       "      <td>Only one issue with adapter</td>\n",
       "      <td>5</td>\n",
       "    </tr>\n",
       "    <tr>\n",
       "      <th>2303</th>\n",
       "      <td>2303</td>\n",
       "      <td>MSI 27 inch Full HD IPS Panel Monitor (PRO MP2...</td>\n",
       "      <td>Worth the money u spend for this monitor Great...</td>\n",
       "      <td>5</td>\n",
       "    </tr>\n",
       "  </tbody>\n",
       "</table>\n",
       "<p>2304 rows × 4 columns</p>\n",
       "</div>"
      ],
      "text/plain": [
       "      Unnamed: 0                                       Product_name  \\\n",
       "0              0  Lenovo Ideapad Gaming 3 Ryzen 5 Hexa Core 5600...   \n",
       "1              1  Lenovo Ideapad Gaming 3 Ryzen 5 Hexa Core 5600...   \n",
       "2              2  Lenovo Ideapad Gaming 3 Ryzen 5 Hexa Core 5600...   \n",
       "3              3  DELL Inspiron Athlon Dual Core 3050U - (4 GB/2...   \n",
       "4              4  DELL Inspiron Athlon Dual Core 3050U - (4 GB/2...   \n",
       "...          ...                                                ...   \n",
       "2299        2299  MSI 27 inch Full HD IPS Panel Monitor (PRO MP2...   \n",
       "2300        2300  MSI 27 inch Full HD IPS Panel Monitor (PRO MP2...   \n",
       "2301        2301  MSI 27 inch Full HD IPS Panel Monitor (PRO MP2...   \n",
       "2302        2302  MSI 27 inch Full HD IPS Panel Monitor (PRO MP2...   \n",
       "2303        2303  MSI 27 inch Full HD IPS Panel Monitor (PRO MP2...   \n",
       "\n",
       "                                                 Review  Rating  \n",
       "0     Best under 60k Great performanceI got it for a...       5  \n",
       "1                                    Good perfomence...       5  \n",
       "2     Great performance but usually it has also that...       5  \n",
       "3              My wife is so happy and best product 👌🏻😘       5  \n",
       "4     Light weight laptop with new amazing features,...       5  \n",
       "...                                                 ...     ...  \n",
       "2299  Great display, accurate colours at this price ...       5  \n",
       "2300  Superb monitor first brought 1 used for 2 mont...       5  \n",
       "2301                                            Awesome       5  \n",
       "2302                        Only one issue with adapter       5  \n",
       "2303  Worth the money u spend for this monitor Great...       5  \n",
       "\n",
       "[2304 rows x 4 columns]"
      ]
     },
     "execution_count": 3,
     "metadata": {},
     "output_type": "execute_result"
    }
   ],
   "source": [
    "#reading the csv\n",
    "data = pd.read_csv(r\"FlipKart.csv\")\n",
    "data"
   ]
  },
  {
   "cell_type": "code",
   "execution_count": 5,
   "id": "5fc636e0",
   "metadata": {},
   "outputs": [],
   "source": [
    "# Drop the unnecessary column\n",
    "data = data.drop(columns=['Unnamed: 0'])"
   ]
  },
  {
   "cell_type": "code",
   "execution_count": 13,
   "id": "31eace0c",
   "metadata": {},
   "outputs": [
    {
     "name": "stdout",
     "output_type": "stream",
     "text": [
      "                                        Product_name  \\\n",
      "0  Lenovo Ideapad Gaming 3 Ryzen 5 Hexa Core 5600...   \n",
      "1  Lenovo Ideapad Gaming 3 Ryzen 5 Hexa Core 5600...   \n",
      "2  Lenovo Ideapad Gaming 3 Ryzen 5 Hexa Core 5600...   \n",
      "3  DELL Inspiron Athlon Dual Core 3050U - (4 GB/2...   \n",
      "4  DELL Inspiron Athlon Dual Core 3050U - (4 GB/2...   \n",
      "\n",
      "                                              Review  Rating  \n",
      "0  Best under 60k Great performanceI got it for a...       5  \n",
      "1                                 Good perfomence...       5  \n",
      "2  Great performance but usually it has also that...       5  \n",
      "3           My wife is so happy and best product 👌🏻😘       5  \n",
      "4  Light weight laptop with new amazing features,...       5  \n"
     ]
    }
   ],
   "source": [
    "print(data.head())"
   ]
  },
  {
   "cell_type": "code",
   "execution_count": 8,
   "id": "5b7fb23a",
   "metadata": {},
   "outputs": [
    {
     "data": {
      "text/html": [
       "<div>\n",
       "<style scoped>\n",
       "    .dataframe tbody tr th:only-of-type {\n",
       "        vertical-align: middle;\n",
       "    }\n",
       "\n",
       "    .dataframe tbody tr th {\n",
       "        vertical-align: top;\n",
       "    }\n",
       "\n",
       "    .dataframe thead th {\n",
       "        text-align: right;\n",
       "    }\n",
       "</style>\n",
       "<table border=\"1\" class=\"dataframe\">\n",
       "  <thead>\n",
       "    <tr style=\"text-align: right;\">\n",
       "      <th></th>\n",
       "      <th>count</th>\n",
       "      <th>mean</th>\n",
       "      <th>std</th>\n",
       "      <th>min</th>\n",
       "      <th>25%</th>\n",
       "      <th>50%</th>\n",
       "      <th>75%</th>\n",
       "      <th>max</th>\n",
       "    </tr>\n",
       "  </thead>\n",
       "  <tbody>\n",
       "    <tr>\n",
       "      <th>Rating</th>\n",
       "      <td>2304.0</td>\n",
       "      <td>4.259549</td>\n",
       "      <td>1.180017</td>\n",
       "      <td>1.0</td>\n",
       "      <td>4.0</td>\n",
       "      <td>5.0</td>\n",
       "      <td>5.0</td>\n",
       "      <td>5.0</td>\n",
       "    </tr>\n",
       "  </tbody>\n",
       "</table>\n",
       "</div>"
      ],
      "text/plain": [
       "         count      mean       std  min  25%  50%  75%  max\n",
       "Rating  2304.0  4.259549  1.180017  1.0  4.0  5.0  5.0  5.0"
      ]
     },
     "execution_count": 8,
     "metadata": {},
     "output_type": "execute_result"
    }
   ],
   "source": [
    "data.describe().T"
   ]
  },
  {
   "cell_type": "code",
   "execution_count": 11,
   "id": "39d2c4a4",
   "metadata": {},
   "outputs": [
    {
     "data": {
      "text/plain": [
       "Rating\n",
       "5    1382\n",
       "4     552\n",
       "1     184\n",
       "3     140\n",
       "2      46\n",
       "Name: count, dtype: int64"
      ]
     },
     "execution_count": 11,
     "metadata": {},
     "output_type": "execute_result"
    }
   ],
   "source": [
    "data['Rating'].value_counts(\n",
    ")"
   ]
  },
  {
   "cell_type": "code",
   "execution_count": 9,
   "id": "579dd577",
   "metadata": {},
   "outputs": [
    {
     "data": {
      "text/plain": [
       "Product_name    0\n",
       "Review          0\n",
       "Rating          0\n",
       "dtype: int64"
      ]
     },
     "execution_count": 9,
     "metadata": {},
     "output_type": "execute_result"
    }
   ],
   "source": [
    "# check for null values\n",
    "data.isnull().sum()"
   ]
  },
  {
   "cell_type": "code",
   "execution_count": 12,
   "id": "bc8d85aa",
   "metadata": {},
   "outputs": [
    {
     "data": {
      "image/png": "[encoded data removed]",
      "text/plain": [
       "<Figure size 1000x800 with 1 Axes>"
      ]
     },
     "metadata": {},
     "output_type": "display_data"
    }
   ],
   "source": [
    "# distribution visulisation of the product ratings\n",
    "ratings = data[\"Rating\"].value_counts()\n",
    "numbers = ratings.index\n",
    "quantity = ratings.values\n",
    "\n",
    "custom_colors = [\"skyblue\", \"yellowgreen\", 'tomato', \"blue\", \"red\"]\n",
    "plt.figure(figsize=(10, 8))\n",
    "plt.pie(quantity, labels=numbers, colors=custom_colors)\n",
    "central_circle = plt.Circle((0, 0), 0.5, color='white')\n",
    "fig = plt.gcf()\n",
    "fig.gca().add_artist(central_circle)\n",
    "plt.rc('font', size=12)\n",
    "plt.title(\"Distribution of Flipkart Product Ratings\", fontsize=20)\n",
    "plt.show()"
   ]
  },
  {
   "cell_type": "code",
   "execution_count": 15,
   "id": "b3ef607f",
   "metadata": {},
   "outputs": [
    {
     "name": "stdout",
     "output_type": "stream",
     "text": [
      "                                        Product_name  \\\n",
      "0  Lenovo Ideapad Gaming 3 Ryzen 5 Hexa Core 5600...   \n",
      "1  Lenovo Ideapad Gaming 3 Ryzen 5 Hexa Core 5600...   \n",
      "2  Lenovo Ideapad Gaming 3 Ryzen 5 Hexa Core 5600...   \n",
      "3  DELL Inspiron Athlon Dual Core 3050U - (4 GB/2...   \n",
      "4  DELL Inspiron Athlon Dual Core 3050U - (4 GB/2...   \n",
      "\n",
      "                                              Review  Rating  Positive  \\\n",
      "0  Best under 60k Great performanceI got it for a...       5     0.314   \n",
      "1                                 Good perfomence...       5     0.744   \n",
      "2  Great performance but usually it has also that...       5     0.119   \n",
      "3           My wife is so happy and best product 👌🏻😘       5     0.568   \n",
      "4  Light weight laptop with new amazing features,...       5     0.467   \n",
      "\n",
      "   Negative  Neutral  \n",
      "0     0.073    0.613  \n",
      "1     0.000    0.256  \n",
      "2     0.000    0.881  \n",
      "3     0.000    0.432  \n",
      "4     0.000    0.533  \n"
     ]
    }
   ],
   "source": [
    "# adding three more columns to this dataset as Positive, Negative, and Neutral by calculating the sentiment scores of the customer reviews mentioned in the Review column of the dataset\n",
    "sentiments = SentimentIntensityAnalyzer()\n",
    "data[\"Positive\"] = [sentiments.polarity_scores(i)[\"pos\"] for i in data[\"Review\"]]\n",
    "data[\"Negative\"] = [sentiments.polarity_scores(i)[\"neg\"] for i in data[\"Review\"]]\n",
    "data[\"Neutral\"] = [sentiments.polarity_scores(i)[\"neu\"] for i in data[\"Review\"]]\n",
    "print(data.head())"
   ]
  },
  {
   "cell_type": "code",
   "execution_count": 16,
   "id": "abd860af",
   "metadata": {},
   "outputs": [
    {
     "name": "stdout",
     "output_type": "stream",
     "text": [
      "Neutral 🙂 \n"
     ]
    }
   ],
   "source": [
    "x = sum(data[\"Positive\"])\n",
    "y = sum(data[\"Negative\"])\n",
    "z = sum(data[\"Neutral\"])\n",
    "\n",
    "def sentiment_score(a, b, c):\n",
    "    if (a>b) and (a>c):\n",
    "        print(\"Positive 😊 \")\n",
    "    elif (b>a) and (b>c):\n",
    "        print(\"Negative 😠 \")\n",
    "    else:\n",
    "        print(\"Neutral 🙂 \")\n",
    "sentiment_score(x, y, z)"
   ]
  },
  {
   "cell_type": "markdown",
   "id": "a62e30f9",
   "metadata": {},
   "source": [
    "Most of the people are neutral when submitting their experience with the products they have purchased for FlipKart."
   ]
  },
  {
   "cell_type": "code",
   "execution_count": 17,
   "id": "36d4ea78",
   "metadata": {},
   "outputs": [
    {
     "name": "stdout",
     "output_type": "stream",
     "text": [
      "Positive:  835.669999999999\n",
      "Negative:  104.91700000000004\n",
      "Neutral:  1363.413000000003\n"
     ]
    }
   ],
   "source": [
    "# Total number of the sentiment analysis\n",
    "print(\"Positive: \", x)\n",
    "print(\"Negative: \", y)\n",
    "print(\"Neutral: \", z)"
   ]
  },
  {
   "cell_type": "markdown",
   "id": "ac37394a",
   "metadata": {},
   "source": [
    "most of the reviews of flipkart are seen to be neutral, while positive reviews are more than the negative reviews."
   ]
  },
  {
   "cell_type": "code",
   "execution_count": null,
   "id": "f76185ad",
   "metadata": {},
   "outputs": [],
   "source": []
  }
 ],
 "metadata": {
  "kernelspec": {
   "display_name": "Python 3 (ipykernel)",
   "language": "python",
   "name": "python3"
  },
  "language_info": {
   "codemirror_mode": {
    "name": "ipython",
    "version": 3
   },
   "file_extension": ".py",
   "mimetype": "text/x-python",
   "name": "python",
   "nbconvert_exporter": "python",
   "pygments_lexer": "ipython3",
   "version": "3.11.7"
  }
 },
 "nbformat": 4,
 "nbformat_minor": 5
}
